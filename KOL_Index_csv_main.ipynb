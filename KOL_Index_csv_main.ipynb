{
 "cells": [
  {
   "cell_type": "code",
   "execution_count": null,
   "id": "c3d2625a",
   "metadata": {},
   "outputs": [],
   "source": [
    "'''\n",
    "此為使用Selenium自動化爬取\"網紅配方\"官網全網紅的內頁連結\n",
    "This code is for using Selenium to automate the web scraping of individual page links for all influencers on the \"網紅配方\" official website.\n",
    "'''"
   ]
  },
  {
   "cell_type": "code",
   "execution_count": null,
   "id": "a9766127",
   "metadata": {
    "scrolled": false
   },
   "outputs": [],
   "source": [
    "pip install fake_useragent\n",
    "pip install webdriver_manager\n",
    "pip install selenium"
   ]
  },
  {
   "cell_type": "code",
   "execution_count": 28,
   "id": "eaeb49f3",
   "metadata": {},
   "outputs": [],
   "source": [
    "username = '123@gmail.com'  # type loggin username\n",
    "pwd = '123'  # type loggin passwd"
   ]
  },
  {
   "cell_type": "code",
   "execution_count": 36,
   "id": "65c8a46e",
   "metadata": {},
   "outputs": [
    {
     "name": "stdout",
     "output_type": "stream",
     "text": [
      "KOL_url目錄已存在，將開始爬蟲\n",
      "爬蟲已完成\n",
      "正在寫入檔案...\n",
      "CSV儲存成功，腳本已結束\n"
     ]
    }
   ],
   "source": [
    "from selenium import webdriver\n",
    "from selenium.webdriver.chrome.service import Service\n",
    "from webdriver_manager.chrome import ChromeDriverManager\n",
    "from selenium.webdriver.common.by import By\n",
    "from selenium.webdriver.common.keys import Keys\n",
    "from bs4 import BeautifulSoup as bs\n",
    "from time import sleep\n",
    "import re\n",
    "import numpy as np\n",
    "import csv\n",
    "import os\n",
    "import random\n",
    "import time\n",
    "\n",
    "#檢查要放資料的目錄否存在\n",
    "save_dir = './KOL_url'\n",
    "if not os.path.exists(save_dir):\n",
    "    print(f\"放檔案的 {save_dir} 目錄不在，已建立{save_dir}\")\n",
    "    os.makedirs(save_dir)\n",
    "else:\n",
    "    print(\"KOL_url目錄已存在，將開始爬蟲\")\n",
    "\n",
    "# 生成介於180到300秒之間的隨機數\n",
    "delay = random.randint(5, 10)   \n",
    "    \n",
    "#設定新視窗模式\n",
    "my_options = webdriver.ChromeOptions()\n",
    "my_options.add_argument(\"--start-maximized\")        \n",
    "my_options.add_argument(\"--incognito\")              \n",
    "my_options.add_argument(\"--disable-popup-blocking\") \n",
    "my_options.add_argument(\"--disable-notifications\")  \n",
    "my_options.add_argument(\"--lang=zh-TW\") \n",
    "\n",
    "#開啟google chrome，並套入上方寫入的模式\n",
    "driver = webdriver.Chrome(\n",
    "    options = my_options\n",
    ")\n",
    "\n",
    "def visit():\n",
    "    url = \"https://www.prefluencer.com/brands/login\"\n",
    "    driver.get(url)\n",
    "    sleep(1)\n",
    "\n",
    "def loggin():\n",
    "    #輸入帳密\n",
    "    account = driver.find_element(By.CSS_SELECTOR, \"input#login_account\")\n",
    "    account.send_keys(username)\n",
    "    sleep(1)\n",
    "    password = driver.find_element(By.CSS_SELECTOR, \"input#login_password\")\n",
    "    password.send_keys(pwd)\n",
    "    sleep(1)\n",
    "    #登入\n",
    "    button = driver.find_element(By.CSS_SELECTOR, \"button.btn.btn--block.btn--primary.btn--square.btn-login\")\n",
    "    button.click()\n",
    "    sleep(3)\n",
    "def scroll_and_click_next(scroll_times):\n",
    "    spec_url = \"https://www.prefluencer.com/brands\"\n",
    "    driver.get(spec_url)\n",
    "    button = driver.find_element(By.CSS_SELECTOR, \"button.btn.tour-guide__skip-btn\")\n",
    "    button.click()\n",
    "    kol_names = []  # 初始化KOL名字列表\n",
    "    content_links = []  # 初始化内页网址列表\n",
    "    sleep(5)\n",
    "    #-------------------------#\n",
    "    #條件function可以放這裡\n",
    "    #-------------------------#\n",
    "    sleep(30)\n",
    "    kol_names, content_links = desc_climb(kol_names, content_links)\n",
    "    for _ in range(scroll_times):\n",
    "        \n",
    "        js = 'window.scrollTo(0, document.body.scrollHeight);'\n",
    "        driver.execute_script(js)\n",
    "        time.sleep(delay) \n",
    "        try:\n",
    "            button = driver.find_element(By.CSS_SELECTOR, \"a.btn.pagination_button.pagination_button-next\")\n",
    "            button.click()\n",
    "            time.sleep(delay) \n",
    "        except Exception as e:\n",
    "            print(\"無法找到下一頁按鈕或點擊失敗:\", e)\n",
    "            break\n",
    "        kol_names, content_links = desc_climb(kol_names, content_links)\n",
    "    return kol_names, content_links\n",
    "\n",
    "def desc_climb(kol_names, content_links):\n",
    "    soup = bs(driver.page_source, \"lxml\")\n",
    "\n",
    "    kol_name_elements = soup.select('a.kollist__item-link--title')\n",
    "    content_link_elements = soup.select('a[class=\"kollist__item-link--title text-ellipsis\"]')\n",
    "\n",
    "    # 循環處理每個匹配的元素\n",
    "    for kol_name_element in kol_name_elements:\n",
    "        kol_names.append(kol_name_element.text)\n",
    "    # 刪除最後的奇怪元素\n",
    "    if kol_names:\n",
    "        kol_names = [name for name in kol_names if name != '{name}']\n",
    "\n",
    "    for content_link_element in content_link_elements:\n",
    "        url = f'\"https://www.prefluencer.com{content_link_element[\"href\"]}\",'\n",
    "        # 删除以 'https://www.prefluencer.com{url}' 开头的 URL\n",
    "        if not url.startswith('https://www.prefluencer.com{url}'):\n",
    "            content_links.append(url)\n",
    "    \n",
    "    return kol_names, content_links\n",
    "\n",
    "# 以下是你的主程序\n",
    "if __name__ == \"__main__\":\n",
    "    visit()\n",
    "    loggin()\n",
    "    kol_names, formatted_content_links = scroll_and_click_next(97)\n",
    "\n",
    "print(\"爬蟲已完成\")\n",
    "print(\"正在寫入檔案...\")\n",
    "\n",
    "# 寫入CSV文件\n",
    "try:\n",
    "    csv_file_path = os.path.join(save_dir, f\"KOL內頁網址1K-3K.csv\")\n",
    "    with open(csv_file_path, 'w', newline='', encoding='utf-8-sig') as csvfile:\n",
    "        fieldnames = ['KOL名字', '內頁網址']\n",
    "        writer = csv.DictWriter(csvfile, fieldnames=fieldnames)\n",
    "        writer.writeheader()\n",
    "        for i in range(len(kol_names)):\n",
    "            writer.writerow({'KOL名字': kol_names[i], '內頁網址': formatted_content_links[i]})\n",
    "    print(f\"CSV儲存成功，腳本已結束\")\n",
    "\n",
    "except Exception as e:\n",
    "    print(f\"CSV時發生錯誤: {e}\")"
   ]
  },
  {
   "cell_type": "code",
   "execution_count": 33,
   "id": "376628b6",
   "metadata": {},
   "outputs": [],
   "source": [
    "#選擇300k以上網紅\n",
    "def follower_300k_up():\n",
    "    button = driver.find_element(By.CSS_SELECTOR, \"label[for='follower_5']\")\n",
    "    button.click()"
   ]
  },
  {
   "cell_type": "code",
   "execution_count": 4,
   "id": "8c1b0d90",
   "metadata": {},
   "outputs": [],
   "source": [
    "#選擇150k~300k網紅\n",
    "def follower_150k_300k():\n",
    "    button = driver.find_element(By.CSS_SELECTOR, \"label[for='follower_4']\")\n",
    "    button.click()"
   ]
  },
  {
   "cell_type": "code",
   "execution_count": 20,
   "id": "01c591a5",
   "metadata": {},
   "outputs": [],
   "source": [
    "#選擇50k~150k網紅\n",
    "def follower_50k_150k():\n",
    "    button = driver.find_element(By.CSS_SELECTOR, \"label[for='follower_3']\")\n",
    "    button.click()"
   ]
  },
  {
   "cell_type": "code",
   "execution_count": 10,
   "id": "220fc29b",
   "metadata": {},
   "outputs": [],
   "source": [
    "#選擇10k~50k網紅\n",
    "def follower_10k_50k():\n",
    "    button = driver.find_element(By.CSS_SELECTOR, \"label[for='follower_2']\")\n",
    "    button.click()"
   ]
  },
  {
   "cell_type": "code",
   "execution_count": 11,
   "id": "a797ed8c",
   "metadata": {},
   "outputs": [],
   "source": [
    "#選擇1k~10k網紅\n",
    "def follower_1k_10k():\n",
    "    button = driver.find_element(By.CSS_SELECTOR, \"label[for='follower_1']\")\n",
    "    button.click()"
   ]
  },
  {
   "cell_type": "code",
   "execution_count": null,
   "id": "f148fcc0",
   "metadata": {},
   "outputs": [],
   "source": [
    "def srh_bar():\n",
    "    target_min = 3000\n",
    "    target_max = 5000\n",
    "    slider = driver.find_element(By.CSS_SELECTOR, \"div.input-slider\")\n",
    "    driver.execute_script(f\"arguments[0].setAttribute('data-slider_value', {target_value});\", slider)\n",
    "    driver.execute_script(\"var event = new Event('change'); arguments[0].dispatchEvent(event);\", slider)"
   ]
  },
  {
   "cell_type": "code",
   "execution_count": 32,
   "id": "1ed50d69",
   "metadata": {},
   "outputs": [],
   "source": [
    "import pandas as pd\n",
    "\n",
    "# 讀取CSV文件\n",
    "df = pd.read_csv('./KOL_url/KOL內頁網址300K.csv')\n",
    "\n",
    "# 去除網址欄位中的雙引號\n",
    "df['內頁網址'] = df['內頁網址'].str.strip('\"')\n",
    "\n",
    "# 將結果保存回CSV文件\n",
    "df.to_csv('./KOL_url/KOL內頁網址300K.csv', index=False)"
   ]
  },
  {
   "cell_type": "code",
   "execution_count": null,
   "id": "60e1ad51",
   "metadata": {},
   "outputs": [],
   "source": []
  },
  {
   "cell_type": "code",
   "execution_count": null,
   "id": "8f67f6bd",
   "metadata": {},
   "outputs": [],
   "source": []
  },
  {
   "cell_type": "code",
   "execution_count": null,
   "id": "e8602da0",
   "metadata": {},
   "outputs": [],
   "source": []
  },
  {
   "cell_type": "code",
   "execution_count": null,
   "id": "dcd41a4c",
   "metadata": {},
   "outputs": [],
   "source": []
  },
  {
   "cell_type": "code",
   "execution_count": null,
   "id": "e2c10471",
   "metadata": {},
   "outputs": [],
   "source": []
  },
  {
   "cell_type": "code",
   "execution_count": null,
   "id": "2cea10ba",
   "metadata": {},
   "outputs": [],
   "source": []
  },
  {
   "cell_type": "code",
   "execution_count": null,
   "id": "af522b39",
   "metadata": {},
   "outputs": [],
   "source": []
  }
 ],
 "metadata": {
  "kernelspec": {
   "display_name": "Python3@da",
   "language": "python",
   "name": "da"
  },
  "language_info": {
   "codemirror_mode": {
    "name": "ipython",
    "version": 3
   },
   "file_extension": ".py",
   "mimetype": "text/x-python",
   "name": "python",
   "nbconvert_exporter": "python",
   "pygments_lexer": "ipython3",
   "version": "3.10.13"
  }
 },
 "nbformat": 4,
 "nbformat_minor": 5
}
